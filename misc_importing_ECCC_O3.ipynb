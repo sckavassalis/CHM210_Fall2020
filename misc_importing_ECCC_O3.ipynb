{
 "cells": [
  {
   "cell_type": "code",
   "execution_count": 1,
   "metadata": {},
   "outputs": [],
   "source": [
    "# importing pandas and numpy\n",
    "import pandas as pd\n",
    "import numpy as np"
   ]
  },
  {
   "cell_type": "code",
   "execution_count": 2,
   "metadata": {},
   "outputs": [],
   "source": [
    "#downloading the data from ECCC\n",
    "O3_2010 = pd.read_csv(\"http://data.ec.gc.ca/data/air/monitor/national-air-pollution-surveillance-naps-program/Data-Donnees/2010/ContinuousData-DonneesContinu/HourlyData-DonneesHoraires/O3_2010.csv\",parse_dates=['Date'],encoding='latin-1',skiprows=5) #opens the raw csv file and attempts to auto-identify the date formatting in the Date column\n",
    "# parse_dates=['Date'] asks Pandas to try and auto-read the dates (seems to work)\n",
    "# encoding='latin-1' tells pandas how to read this particular csv file\n",
    "# skiprows=5 skips the first five rows that include the header information\n",
    "\n"
   ]
  },
  {
   "cell_type": "code",
   "execution_count": 3,
   "metadata": {},
   "outputs": [],
   "source": [
    "# this function will create a time series for a given station id number (ie. 10102)\n",
    "# requires NAPSID for station_id input and the O3_YEAR data frame as imported above (ie. O3_2010)\n",
    "def create_O3_timeseries(station_id, O3_YEAR):\n",
    "    result = [] # creates a empty list to add data to\n",
    "    for i in range(0,len(O3_YEAR)): #loops through each element in raw dataframe\n",
    "        if (O3_YEAR['NAPSID'][i] == station_id):\n",
    "            for j in range (0,24): # loops for each hour of day\n",
    "                # identifies the column name for hour of the day\n",
    "                if (j<9):\n",
    "                    O3_string = \"H0\"+str(j+1)\n",
    "                else:\n",
    "                    O3_string = \"H\"+str(j+1)\n",
    "                \n",
    "                # confirms that the NaN values (9999 and -999) aren't present in the ozone data\n",
    "                if (O3_YEAR[O3_string][i] < 9999 and O3_YEAR[O3_string][i] > -999):\n",
    "                    #appends a new row to the \"results\" list in the format [Date + hour, Ozone]\n",
    "                    #this assumes that hour 1 = 00:00, hour 24 = 23:00\n",
    "                    result.append([pd.to_datetime(O3_YEAR['Date'][i]+ pd.to_timedelta(j, unit='h')), O3_YEAR[O3_string][i]])\n",
    "                # if the ozone value is 9999 or -999, then it is replaced with a NaN\n",
    "                else:\n",
    "                    #appends a new row to the \"results\" list in the format [Date + hour, Ozone]\n",
    "                    result.append([pd.to_datetime(O3_YEAR['Date'][i]+ pd.to_timedelta(j, unit='h')), np.nan])\n",
    "    #creates a data frame that stores the date and hourly ozone concentration for the specified NAPSID\n",
    "    O3_ts = pd.DataFrame(result, columns = ['Date', 'Ozone'])\n",
    "    #the output of this function is the ozone time series data frame\n",
    "    return O3_ts\n"
   ]
  },
  {
   "cell_type": "code",
   "execution_count": 4,
   "metadata": {},
   "outputs": [],
   "source": [
    "#a test example of how this function could run\n",
    "O3_2010_10102 = create_O3_timeseries(10102, O3_2010)\n",
    "O3_2010_10102.to_csv(r'C:\\\\Users\\Sarah\\O3_2010_10102.csv', na_rep='NaN', index=False)\n"
   ]
  },
  {
   "cell_type": "code",
   "execution_count": 5,
   "metadata": {},
   "outputs": [],
   "source": [
    "#another test example of how this function could run\n",
    "O3_2010_52001 = create_O3_timeseries(52001, O3_2010)\n",
    "O3_2010_52001.to_csv(r'C:\\\\Users\\Sarah\\O3_2010_52001.csv', na_rep='NaN', index=False)\n"
   ]
  },
  {
   "cell_type": "code",
   "execution_count": 6,
   "metadata": {},
   "outputs": [
    {
     "name": "stdout",
     "output_type": "stream",
     "text": [
      "0       10102\n",
      "1       10301\n",
      "2       10401\n",
      "3       10501\n",
      "4       10601\n",
      "        ...  \n",
      "208    129003\n",
      "209    129102\n",
      "210    129103\n",
      "211    129401\n",
      "212    129501\n",
      "Name: NAPSID, Length: 213, dtype: int64\n"
     ]
    }
   ],
   "source": [
    "# You could automate going through all the station ids starting from:\n",
    "NAPSID = O3_2010.NAPSID.drop_duplicates() # finds all the unique station IDS\n",
    "NAPSID.index = range(len(NAPSID.index)) # re-indexes the object (because otherwise the index numbers match the original dataframe and looping is inefficient)\n",
    "print(NAPSID)"
   ]
  }
 ],
 "metadata": {
  "kernelspec": {
   "display_name": "Python 3",
   "language": "python",
   "name": "python3"
  },
  "language_info": {
   "codemirror_mode": {
    "name": "ipython",
    "version": 3
   },
   "file_extension": ".py",
   "mimetype": "text/x-python",
   "name": "python",
   "nbconvert_exporter": "python",
   "pygments_lexer": "ipython3",
   "version": "3.7.6"
  }
 },
 "nbformat": 4,
 "nbformat_minor": 4
}
