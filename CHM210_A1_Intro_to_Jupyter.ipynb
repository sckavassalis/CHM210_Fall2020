{
 "cells": [
  {
   "cell_type": "markdown",
   "metadata": {},
   "source": [
    "## CHM210 Assignment 1: Introduction to Python and Jupyter Notebooks\n",
    "\n",
    "Welcome to the first assignment for CHM210. We are going to use a <a href=\"https://jupyter4edu.github.io/jupyter-edu-book/\">Jupyter notebook</a> to learn the basics of the Python programming language. All of your answers will be completed within this document. Changes you make are saved into your personal https://utoronto.syzygy.ca account as long as you have internet access, so don't worry about editing this file. If you lose internet access while working, leave your browser with the tab to your notebook open and it should save when your internet connection resumes. There are a lot of free, online resources out there to help you with Jupyter and Python. I recommend Christian Hill's <a href=\"https://scipython.com/book/\">\"Learning Scientific Programming with Python\"</a> and there are lots of quick, online tutorials for students who want to learn more Python (ex. <a href=\"https://ourcodingclub.github.io/tutorials.html\">Coding Club</a> or <a href=\"https://www.w3schools.com/python/default.asp\">w3Schools</a>), but the programming skills you will need for these assignments will be contained in the assignments themselves.\n",
    "\n",
    "First things first, we need to import the Python modules we will be using for this assignment. Click on the box of code below and press the \"Run\" button (or ctrl-enter) to import the packages we need. If you don't have a \"Run\" button, go to the <b>View</b> menu and select <b>Toggle Toolbar</b> and that should bring it up. If it runs successfully, the \"You have imported the above modules!\" text will display below.\n",
    "\n",
    "# Importing Python modules and a basic tutorial"
   ]
  },
  {
   "cell_type": "code",
   "execution_count": null,
   "metadata": {},
   "outputs": [],
   "source": [
    "# lines that start with a \"#\" character are comments (Python doesn't treat them as code, but they are helpful for including explanations of why we have written code a particular way)\n",
    "# the import statements are how we add the specific packages we want to use\n",
    "# when we write \"import YYYYYY as Y\", we are creating a shortform \"Y\" that we can use to reference the package \"YYYYYY\"  \n",
    "import matplotlib.pyplot as plt\n",
    "import math as m\n",
    "# below is a simple print statement that will appear as text when we run this box of code\n",
    "# you can easily change what text prints here by editing the words between the \"\"\n",
    "print(\"You have imported the above modules!\")"
   ]
  },
  {
   "cell_type": "markdown",
   "metadata": {},
   "source": [
    "### What if it didn't work?\n",
    "\n",
    "Is the <a href=\"https://ipython.org/ipython-doc/3/development/kernels.html\">kernel</a> ready? If you see <m><b>In [*]</b></m> instead of a line number to the left of a <b>Code</b> box, the kernel might not be ready yet. Check the top right corner to see if the kernel is ready (idle). If the kernel is busy or there is <a href=\"http://individual.utoronto.ca/sck/CHM210/connecting.png\">no connection</a> to the kernel, your code will not run. <img src=\"http://individual.utoronto.ca/sck/CHM210/it_didnt_work.png\">\n",
    "\n",
    "This can often be fixed by going to the <b>Kernel</b> menu, and pressing <b>Restart & Run All</b>. Alternatively, closing your notebook and re-opening the assignment from your Quercus link can often set things right again. If the kernel is ready, and the code has run, you should see a line number to the left of the code. Every time you run a box, that line number will increase (this can help you keep track if you need to run certain boxes in a particular order).\n",
    "<img src=\"http://individual.utoronto.ca/sck/CHM210/it_worked.png\">\n"
   ]
  },
  {
   "cell_type": "markdown",
   "metadata": {},
   "source": [
    "Let's practice some simple math before we get started to make sure you're comfortable using this Notebook. Run the code below (and feel free to change things) to see what simple arithmetic looks like in Python."
   ]
  },
  {
   "cell_type": "code",
   "execution_count": null,
   "metadata": {},
   "outputs": [],
   "source": [
    "5+10"
   ]
  },
  {
   "cell_type": "markdown",
   "metadata": {},
   "source": [
    "You should now have an <b>In</b> line of code (ex. 5+10) and an <b>Out</b> line of result (ex. 15). <img src=\"http://individual.utoronto.ca/sck/CHM210/it_worked_2.png\">\n",
    "\n",
    "What to do if that didn't work?\n",
    "\n",
    "- Check to make sure the kernel is ready and working (as shown above). If it's not, try restarting the kernel or signing out of Syzygy and re-opening the assignment all together. Run the box with the import statements again and re-run the line of code that didn't work. \n",
    "- Had you been working on this notebook earlier then closed it or left it idle? Imported packages (or stored variables when you get into more complicated assignments) may have been lost from memory. It's a good idea when you open or return to a notebook you've previously been working on that you go to the <B>Cell</B> menu and <b>Run All</b> (or <b>Run All Above</b> your place in the assignment) to make sure your import statement and any saved variables are available to you.\n",
    "- Double check that the code is set to <b>Code</b> in the dropdown menu at the top. If a box that is supposed to contain code is set to something else, Jupyter won't know to interpret it as Python so it won't run.\n",
    "<img src=\"http://individual.utoronto.ca/sck/CHM210/code_vs_.png\">\n",
    "- Any chance a \"#\" ended up in front of a line of code? Hashes are used to tell Python you are writing a <a href=\"https://www.w3schools.com/python/python_comments.asp\">comment</a>. Comments are human readable, but your Notebook will not attempt to perform operations with code accidentally included in a comment."
   ]
  },
  {
   "cell_type": "markdown",
   "metadata": {},
   "source": [
    "## More simple math and features you will need \n",
    "\n",
    "Exponents are treated differently in Python than you might be used to seeing. <m>10**5</m> is how you would write $10^5$."
   ]
  },
  {
   "cell_type": "code",
   "execution_count": null,
   "metadata": {},
   "outputs": [],
   "source": [
    "10**5"
   ]
  },
  {
   "cell_type": "markdown",
   "metadata": {},
   "source": [
    "The <b>^</b> operator in Python is treated as a <a href=\"https://wiki.python.org/moin/BitwiseOperators\">bitwise exclusive or operator</a> which is not something you need to use in this course (but if you accidentally use it trying to use an exponent, your code will not work as intended). \n",
    "\n",
    "We can also create named variables and perform operations on them as above. The variable names have no meaning to Python, they are set by you, the programmer. Ideally, names should be short and descriptive."
   ]
  },
  {
   "cell_type": "code",
   "execution_count": null,
   "metadata": {},
   "outputs": [],
   "source": [
    "x = 5 # we have assigned the integer 5 to a variable we have named x\n",
    "y = 10 # we have assigned the integer 10 to a variable we have named y \n",
    "x + y # this will calculate and output x + y"
   ]
  },
  {
   "cell_type": "markdown",
   "metadata": {},
   "source": [
    "There are several useful, pre-built, functions you can use, like max(), min()"
   ]
  },
  {
   "cell_type": "code",
   "execution_count": null,
   "metadata": {},
   "outputs": [],
   "source": [
    "# max() returns the maximum value of all arguments you give it\n",
    "max(1,3,6,10,5)"
   ]
  },
  {
   "cell_type": "markdown",
   "metadata": {},
   "source": [
    "We can also easily write our own functions, as below:"
   ]
  },
  {
   "cell_type": "code",
   "execution_count": null,
   "metadata": {},
   "outputs": [],
   "source": [
    "# We are defining our own function called \"mean\" that will take in a list of numbers (listofnumbers) and return the mean\n",
    "def mean(listofnumbers): \n",
    "    # the sum function returns the sum of all values in our list\n",
    "    # the len function returns the number of elements in our list \n",
    "    return sum(listofnumbers) / len(listofnumbers) "
   ]
  },
  {
   "cell_type": "markdown",
   "metadata": {},
   "source": [
    "An important note - <a href=\"https://www.w3schools.com/python/python_syntax.asp\">indentation matters</a>! If you forget or change the indentation in a block of code, it won't work as intended (and may yield an error message):<img src=\"http://individual.utoronto.ca/sck/CHM210/indent_error.png\">\n",
    "\n",
    "Now let's use our new function:"
   ]
  },
  {
   "cell_type": "code",
   "execution_count": null,
   "metadata": {},
   "outputs": [],
   "source": [
    "testlist = [4,7,10,11,100] # this is just a test list (the name isn't meaningful nor the numbers we're starting with) \n",
    "mean(testlist) # now we call our function with the testarray as the input"
   ]
  },
  {
   "cell_type": "markdown",
   "metadata": {},
   "source": [
    "The <a href=\"https://www.w3schools.com/python/python_lists.asp\">list</a> created above and named \"testlist\" contains several integers. We can use this simple array to look at a few more programming basics. The <a href=\"https://docs.python.org/3/library/functions.html#len\">len</a> function returns the number of elements in a list or array."
   ]
  },
  {
   "cell_type": "code",
   "execution_count": null,
   "metadata": {},
   "outputs": [],
   "source": [
    "len(testlist)"
   ]
  },
  {
   "cell_type": "markdown",
   "metadata": {},
   "source": [
    "This is helpful if we want to loop through each element in a list, either to examine them or to perform an operation. The syntax for <a href=\"https://www.w3schools.com/python/python_for_loops.asp\">for loops</a> is straightforward (noting that both indentation and the : matter)."
   ]
  },
  {
   "cell_type": "code",
   "execution_count": null,
   "metadata": {},
   "outputs": [],
   "source": [
    "for z in testlist: # for each element, z, in the list, testlist\n",
    "    print(z)"
   ]
  },
  {
   "cell_type": "markdown",
   "metadata": {},
   "source": [
    "We could alternatively write the above loop as,"
   ]
  },
  {
   "cell_type": "code",
   "execution_count": null,
   "metadata": {},
   "outputs": [],
   "source": [
    "for i in range(0,len(testlist)): # for each ith element from the first index position (0) to the last index position (the length of the list)\n",
    "    print(testlist[i])"
   ]
  },
  {
   "cell_type": "markdown",
   "metadata": {},
   "source": [
    "where in the first example, 'z' represents each element in the list (ie, 4, 7, 10, etc.) while in the second example, 'i' represents the element's place (index) in the list, (ie. 0th, 1st, 2nd, etc.). This distinction can be important when we want to perform operations on individual elements of a list."
   ]
  },
  {
   "cell_type": "code",
   "execution_count": null,
   "metadata": {},
   "outputs": [],
   "source": [
    "# This creates a new list, called testlist_2, that normalizes the elements in testlist by the value in the first index position\n",
    "testlist_2 = [testlist[i]/testlist[0] for i in range(0,len(testlist))]\n",
    "print(testlist_2)"
   ]
  },
  {
   "cell_type": "code",
   "execution_count": null,
   "metadata": {},
   "outputs": [],
   "source": [
    "# This creates a new list, called testlist_2, that normalizes the elements in testlist by the mean of testlist\n",
    "testlist_3 = [testlist[i]/mean(testlist) for i in range(0,len(testlist))]\n",
    "print(testlist_3)"
   ]
  },
  {
   "cell_type": "markdown",
   "metadata": {},
   "source": [
    "It is very important to note the syntax here. When we are defining a new list, we write,\n",
    "\n",
    "list name = <m>[list contents]</m> \n",
    "\n",
    "If you forget the exterior square brackets or use the wrong kind of brackets, you will get an error.\n",
    "<img src=\"http://individual.utoronto.ca/sck/CHM210/syntax_error_1.png\">\n",
    "\n",
    "Generally, square brackets are used for lists/arrays, to define the entire list or to call a specific element from that list, and round brackets are for functions. If we use round brackets when we are trying to call a list element, we will get an <a href=\"http://individual.utoronto.ca/sck/CHM210/syntax_error_2.png\">error</a>. Other common errors are forgetting brackets (and thus <a href=\"http://individual.utoronto.ca/sck/CHM210/syntax_error_3.png\">calling an entire list</a> when just an element is needed), using <a href=\"http://individual.utoronto.ca/sck/CHM210/syntax_error_4.png\">square brackets instead of round when trying to call a function</a>, and <a href=\"http://individual.utoronto.ca/sck/CHM210/syntax_error_5.png\">mismatched/forgotten brackets</a>. These are all common mistakes to watch out for if something isn't working the way you think it should."
   ]
  },
  {
   "cell_type": "markdown",
   "metadata": {},
   "source": [
    "## Paying attention to the math package\n",
    "\n",
    "Now let's look what that math package we imported allows us to do. When we want to use mathematical functions, we have to write them in a way that Python can recognize. "
   ]
  },
  {
   "cell_type": "code",
   "execution_count": null,
   "metadata": {},
   "outputs": [],
   "source": [
    "# the default logarithm is the natural log (ie. base e)\n",
    "m.log(10)"
   ]
  },
  {
   "cell_type": "code",
   "execution_count": null,
   "metadata": {},
   "outputs": [],
   "source": [
    "# this is how you call log base 10 (math.log(a,base))\n",
    "m.log(5,10)\n",
    "# alternatively, you can use math.log10(a)"
   ]
  },
  {
   "cell_type": "markdown",
   "metadata": {},
   "source": [
    "The math module contains most of the basic mathematical functions we might want, ie. sqrt(x), exp(x), sin(x), pi, e, etc. You can look them up <a href=\"https://docs.python.org/3/library/math.html\">here</a> and test them out below:"
   ]
  },
  {
   "cell_type": "code",
   "execution_count": null,
   "metadata": {},
   "outputs": [],
   "source": [
    "m.sqrt(100)\n",
    "#m.pi\n",
    "#m.exp(1)"
   ]
  },
  {
   "cell_type": "markdown",
   "metadata": {},
   "source": [
    "Pay attention to the <b>exp()</b> function. If you have not seen this before, exp(x) is a common way to write e raised to the power x (where e = 2.718281… that you know from natural logrithms)."
   ]
  },
  {
   "cell_type": "markdown",
   "metadata": {},
   "source": [
    "Now for the questions. Learning how to debug code is an incredibly important skill and also a great way to learn how to use a programming language. Look at the number of marks each question is worth for a hint at how many mistake you should find.\n",
    "# Questions (worth a total of 15 marks)\n",
    "\n",
    "***\n",
    "# Q1:   A student was trying to write a function to calculate pH from the effective proton concentration in solution (ie. $pH = -log_{10}[H^+]$),  correct their formula below so pH will be calculated properly. <i>(1 marks)</i>\n",
    "\n",
    "# Answer to Q1:\n",
    "***"
   ]
  },
  {
   "cell_type": "code",
   "execution_count": null,
   "metadata": {},
   "outputs": [],
   "source": [
    "def pH(H_plus_conc): \n",
    "    return -m.log(H_plus_conc) \n",
    "pH(1E-7) # this will test the pH function with an effective [H+] of 1E-7 M"
   ]
  },
  {
   "cell_type": "markdown",
   "metadata": {},
   "source": [
    "***\n",
    "# Q2:   A student was trying to write a function that calculates effective $H^+$ concentrations from a given pH value (ie. $[H^+]=10^{-pH}$), correct their formula. <i>(4 marks)</i>\n",
    "\n",
    "# Answer to Q2:\n",
    "***"
   ]
  },
  {
   "cell_type": "code",
   "execution_count": null,
   "metadata": {},
   "outputs": [],
   "source": [
    "def H_conc(pH_val) \n",
    "return 10^-pH\n",
    "H_conc(7) # this will test the H_conc function for a pH of 7"
   ]
  },
  {
   "cell_type": "markdown",
   "metadata": {},
   "source": [
    "***\n",
    "# Q3a:   A student was trying to write a expression that creates a list of effective $H^+$ concentrations from a given list of pH values (ie. $[H^+]=10^{-pH}$), but they have created a \"TypeError\" on line 2 of their code. Look up this error message in the <a href=\"https://docs.python.org/3/library/exceptions.html\">official Python documentation</a> and explain what it means. 1 mark for the definition of a TypeError, 1 mark for identifying what is causing this error in the code. <i>(2 marks) </i>\n"
   ]
  },
  {
   "cell_type": "code",
   "execution_count": null,
   "metadata": {},
   "outputs": [],
   "source": [
    "pH_list = [5.56, 4.67, 5.23, 7.56, 4.89, 6.01, 5.45] # this is the list of pH values (you don't need to change this)\n",
    "H_plus = [10^-pH_list[i] for i in range(0,len(pH_list))] # 10^-pH for each pH value given\n",
    "print(H_plus) # This will print out all the values in the new H_plus list so you can check to make sure they look right"
   ]
  },
  {
   "cell_type": "markdown",
   "metadata": {},
   "source": [
    "# Answer to Q3a:\n",
    "***"
   ]
  },
  {
   "cell_type": "markdown",
   "metadata": {},
   "source": [
    "double click to erase this and type your answere here"
   ]
  },
  {
   "cell_type": "markdown",
   "metadata": {},
   "source": [
    "***\n",
    "# Q3b:   Correct the student's code from Q3a. <i>(1 marks) </i>\n",
    "\n",
    "# Answer to Q3b:\n",
    "***"
   ]
  },
  {
   "cell_type": "code",
   "execution_count": null,
   "metadata": {},
   "outputs": [],
   "source": [
    "H_plus = [10^-pH_list[i] for i in range(0,len(pH_list))] # 10^-pH for each pH value given\n",
    "print(H_plus)"
   ]
  },
  {
   "cell_type": "markdown",
   "metadata": {},
   "source": [
    "***\n",
    "# Q3c. Now alter the code from Q3a to use the function H_conc() (defined in Q2) to calculate the effective proton concentration for every pH value. <i>(2 marks) </i>\n",
    "\n",
    "# Answer to Q3c:\n",
    "***"
   ]
  },
  {
   "cell_type": "code",
   "execution_count": null,
   "metadata": {},
   "outputs": [],
   "source": [
    "H_plus = [CHANGE_THIS_TEXT_TO_CALL_THE_H_conc_FUNCTION for i in range(0,len(pH_list))]\n",
    "print(H_plus) # These numbers should be identical to the ones in Q3b if you got the H_conc function working"
   ]
  },
  {
   "cell_type": "markdown",
   "metadata": {},
   "source": [
    "$$\\require{mhchem}$$  \n",
    "***\n",
    "# Q4. A student was trying to calculate an equibrium constant for the reaction, $$\\ce{2SO_2 (g) + O_2 (g) -> 2SO_3 (g)}$$ ie. they want to calculate, $K_c = \\frac{[SO_3]^2}{[SO_2]^2[O_2]}$, correct the error in their code.   <i>(1 marks) </i>\n",
    "\n",
    "# Answer to Q4:\n",
    "***"
   ]
  },
  {
   "cell_type": "code",
   "execution_count": null,
   "metadata": {},
   "outputs": [],
   "source": [
    "SO2 = 0.90 #M\n",
    "O2 = 0.35 #M\n",
    "SO3 = 1.1 #M\n",
    "Kc = [SO3]**2/([SO2]**2*[O2])\n",
    "print (round(Kc,2), \"M\") # test to see what Kc value is calculated"
   ]
  },
  {
   "cell_type": "markdown",
   "metadata": {},
   "source": [
    "***\n",
    "# Q5a. A student was trying to calculate the steady-state concentration of $NO$ given the following two reactions, \n",
    "\\begin{align}\n",
    "\\ce{NO_3 + NO_2 &->[k_1] NO + NO_2 + O_2} \\\\\n",
    "\\ce{NO_3 + NO &->[k_2] 2NO_2} \\\\\n",
    "\\end{align}\n",
    "\n",
    "# They are trying to write a function to calculate $[NO] = \\frac{k_1[NO_3][NO_2]}{k_2[NO_3]}$ for given values for $[NO_2]$, $[NO_3]$, $k_1$, and $k_2$ but their $[NO]$ value is much too large. Correct the error in their code.   <i>(1 marks) </i>\n",
    "\n",
    "# Answer to Q5a:\n",
    "***"
   ]
  },
  {
   "cell_type": "code",
   "execution_count": null,
   "metadata": {},
   "outputs": [],
   "source": [
    "def NO_steadystate(NO2, NO3, k1, k2):\n",
    "    NO = k1*NO3*NO2/k2*NO3 #find the mistake here!\n",
    "    return NO\n",
    "\n",
    "k1 = 6.56E-16 # cm^3/molecule s @ 298 K\n",
    "k2 = 2.60E-11 #cm^3/molecule s @ 298K\n",
    "NO2 = 1E11 # molecules/cm^3\n",
    "NO3 = 1E8 # molecules/cm^3\n",
    "\n",
    "# the below line will print the answer in scientific notation\n",
    "print (\"{:e}\".format(NO_steadystate(NO2, NO3, k1, k2)), \"molecules/cm^3\") "
   ]
  },
  {
   "cell_type": "markdown",
   "metadata": {},
   "source": [
    "***\n",
    "# Q5b. The student now needs to create a function to calculate steady-state NO concentrations for several temperatures using lists, but their code has a TypeError. Find and correct the mistake so the code works as intended.   <i>(3 marks) </i>\n",
    "\n",
    "# Answer to Q5b:\n",
    "***"
   ]
  },
  {
   "cell_type": "code",
   "execution_count": null,
   "metadata": {},
   "outputs": [],
   "source": [
    "temperature = [300, 275, 250, 225] # K\n",
    "k1 = [6.75E-16, 4.61E-16,2.91E-16,1.66E-16] # cm^3/molecule\n",
    "k2 = [2.60E-11, 2.69E-11, 2.79E-11, 2.93E-11] # cm^3/molecule\n",
    "NO2 = 1E11 # molecules/cm^3\n",
    "NO3 = 1E8 # molecules/cm^3\n",
    "\n",
    "def NO_steadystate_list(NO2, NO3, k1, k2):\n",
    "    NO_list = k1*NO3*NO2/k2*NO3 for i in range(0,len(k1)) \n",
    "    return NO_list\n",
    "\n",
    "# the below loop print the [NO] values for each temperature\n",
    "for i in range(0,len(temperature)):\n",
    "    print (\"for T =\", temperature[i], \"K, [NO] = \", \"{:e}\".format(NO_steadystate_list(NO2, NO3, k1, k2)[i]), \"molecules/cm^3\")"
   ]
  },
  {
   "cell_type": "markdown",
   "metadata": {},
   "source": [
    " "
   ]
  },
  {
   "cell_type": "markdown",
   "metadata": {},
   "source": [
    "***\n",
    "When you have finished your assignment, you need to save it as a html and submit that .html file on Quercus. In your Jupyter Notebook, goto File --> Download ad --> html (.html). Make sure you check your assignment after you've saved it. Confirm all of your answers are there and no formatting surprises have cut things off. Sometimes mistakes in code or markdown boxes can result in files not compiling properly, so look your submission over before uploading to Quercus.\n",
    "<img src=\"http://individual.utoronto.ca/sck/CHM210/save_your_assignment.png\">\n",
    "\n",
    "If you have issues with submission, contact your TAs ASAP.\n"
   ]
  }
 ],
 "metadata": {
  "kernelspec": {
   "display_name": "Python 3",
   "language": "python",
   "name": "python3"
  },
  "language_info": {
   "codemirror_mode": {
    "name": "ipython",
    "version": 3
   },
   "file_extension": ".py",
   "mimetype": "text/x-python",
   "name": "python",
   "nbconvert_exporter": "python",
   "pygments_lexer": "ipython3",
   "version": "3.7.3"
  }
 },
 "nbformat": 4,
 "nbformat_minor": 2
}
